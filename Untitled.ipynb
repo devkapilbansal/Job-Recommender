{
 "cells": [
  {
   "cell_type": "code",
   "execution_count": null,
   "metadata": {},
   "outputs": [],
   "source": [
    "def fetch_recommend(State_Name,sector):\n",
    "    with sqlite3.connect(\"MainDatabase.sqlite\") as conn:\n",
    "        cur=conn.cursor()\n",
    "        cur.execute('''SELECT Job_name,Skill_required,Job_Description,Expected_salary,State_Name,Location,Company_Name,sector,last_date,minimum_qualification FROM Jobs WHERE State_Name=? AND sector=?''',(State_Name,sector))\n",
    "        row=cur.fetchall()\n",
    "        return row"
   ]
  }
 ],
 "metadata": {
  "kernelspec": {
   "display_name": "Python 3",
   "language": "python",
   "name": "python3"
  },
  "language_info": {
   "codemirror_mode": {
    "name": "ipython",
    "version": 3
   },
   "file_extension": ".py",
   "mimetype": "text/x-python",
   "name": "python",
   "nbconvert_exporter": "python",
   "pygments_lexer": "ipython3",
   "version": "3.7.1"
  }
 },
 "nbformat": 4,
 "nbformat_minor": 2
}
